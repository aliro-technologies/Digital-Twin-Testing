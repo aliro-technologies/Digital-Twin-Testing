{
 "cells": [
  {
   "cell_type": "markdown",
   "id": "e18bfe31-be3d-4f84-b002-233461126048",
   "metadata": {},
   "source": [
    "## Common Constants"
   ]
  },
  {
   "cell_type": "code",
   "execution_count": 182,
   "id": "d0129c73-cec2-48b5-8924-b4817b71255c",
   "metadata": {},
   "outputs": [],
   "source": [
    "import numpy as np\n",
    "import matplotlib.pyplot as plt\n",
    "from scipy import stats as st\n",
    "\n",
    "CAR = 1285; #from spurce specs\n",
    "tci = 500e-12;#from source specs\n",
    "epol = 0.02;#typical for similar setups\n",
    "\n",
    "B = 1/(CAR*tci); #From Neumann's paper\n",
    "\n",
    "loss = 13.6; #estimate of our setup\n",
    "eta = 10**(-loss/10);"
   ]
  },
  {
   "cell_type": "markdown",
   "id": "16b3f6e9-0368-4350-bbc4-31f7414d52b4",
   "metadata": {},
   "source": [
    "# Prepare Data Files"
   ]
  },
  {
   "cell_type": "markdown",
   "id": "aaccabe3-fead-48c9-b6f6-4b1238afc1c3",
   "metadata": {},
   "source": [
    "## Tranform Data"
   ]
  },
  {
   "cell_type": "code",
   "execution_count": null,
   "id": "9e4d9417-773b-4a6d-82b3-0f72c4e5cbf1",
   "metadata": {},
   "outputs": [],
   "source": [
    "def transform_data(AH, AV, AD, AA, BH, BV, BD, BA):\n",
    "    # Combine all input arrays into a single 2D array\n",
    "    data = np.array([AH, AV, AD, AA, BH, BV, BD, BA], dtype=np.uint8).T\n",
    "\n",
    "    # Find rows where at least one bit is 1\n",
    "    valid_rows = np.any(data, axis=1)\n",
    "\n",
    "    # Get the indices of valid rows\n",
    "    indices = np.where(valid_rows)[0]\n",
    "\n",
    "    # Compute pulse_select values for valid rows\n",
    "    binary_values = data[valid_rows]\n",
    "    # Convert each row of binary values to a single byte (0-255)\n",
    "    pulse_select = np.packbits(binary_values, axis=1).flatten()\n",
    "\n",
    "    # Compute Time_Offset for valid rows\n",
    "    Time_Offset = indices - np.append([-1], indices[:-1])\n",
    "    #Time_Offset = Time_Offset.astype(np.uint8)  # Ensure values fit in 1 byte (0–255)\n",
    "\n",
    "    return pulse_select, Time_Offset"
   ]
  },
  {
   "cell_type": "markdown",
   "id": "e67e98fd-4780-45de-82fe-7d5a7c0a80a1",
   "metadata": {},
   "source": [
    "## Save Data Files as TXT "
   ]
  },
  {
   "cell_type": "code",
   "execution_count": null,
   "id": "2872d2f1-5c3f-4465-baa9-1a84c16b03ac",
   "metadata": {},
   "outputs": [],
   "source": [
    "def write_pulse_time_to_file(filename, pulse_select, time_offset, columns_per_line=4):\n",
    "    \"\"\"\n",
    "    Writes pulse_select (in hex) and time_offset (in decimal) values to a formatted text file.\n",
    "\n",
    "    Parameters:\n",
    "        filename (str): The name of the output file.\n",
    "        pulse_select (list or array): List of pulse select values.\n",
    "        time_offset (list or array): List of time offset values.\n",
    "        columns_per_line (int): Number of pairs to write per line.\n",
    "    \"\"\"\n",
    "    with open(filename, \"w\") as f:\n",
    "        for i in range(0, len(pulse_select), columns_per_line):\n",
    "            # Slice the current line's data\n",
    "            pulse_slice = pulse_select[i:i + columns_per_line]\n",
    "            time_slice = time_offset[i:i + columns_per_line]\n",
    "\n",
    "            # Format each pair and join them with spaces\n",
    "            line = ' '.join(f\"{pulse:02X} {time}\" for pulse, time in zip(pulse_slice, time_slice))\n",
    "\n",
    "            # Write the line to the file\n",
    "            f.write(line + \"\\n\")\n",
    "\n",
    "    print(f\"File '{filename}' written successfully.\")"
   ]
  },
  {
   "cell_type": "markdown",
   "id": "46aee250-4c6d-46c3-81b0-26c0a169064e",
   "metadata": {},
   "source": [
    "## Generate Periodic Data"
   ]
  },
  {
   "cell_type": "code",
   "execution_count": null,
   "id": "44ad51d4-ba3a-41a4-8114-8bf7504e375f",
   "metadata": {},
   "outputs": [],
   "source": [
    "period = 10; # number of nanoseconds between each pulse_select. MUST BE GREATER THAN DEAD TIME\n",
    "N = 125000*period; # Number of 64 bit (8 bytes = 4 pulse_data bytes and 4 Time_Offset bytes) elements to be generated 125k = 1MB\n",
    "# Pre-allocate arrays\n",
    "AH = np.zeros(int(N*4), dtype=np.uint8)\n",
    "AV = np.zeros(int(N*4), dtype=np.uint8)\n",
    "AD = np.zeros(int(N*4), dtype=np.uint8)\n",
    "AA = np.zeros(int(N*4), dtype=np.uint8)\n",
    "BH = np.zeros(int(N*4), dtype=np.uint8)\n",
    "BV = np.zeros(int(N*4), dtype=np.uint8)\n",
    "BD = np.zeros(int(N*4), dtype=np.uint8)\n",
    "BA = np.zeros(int(N*4), dtype=np.uint8)\n",
    "\n",
    "\n",
    "active_1 = np.array([1, 1, 1, 1, 1, 1, 1, 1]);\n",
    "active_2 = np.array([1, 1, 1, 1, 1, 1, 1, 1]);\n",
    "active_3 = np.array([1, 1, 1, 1, 1, 1, 1, 1]);\n",
    "active_4 = np.array([1, 1, 1, 1, 1, 1, 1, 1]);\n",
    "active_5 = np.array([1, 1, 1, 1, 1, 1, 1, 1]);\n",
    "active_6 = np.array([1, 1, 1, 1, 1, 1, 1, 1]);\n",
    "active_7 = np.array([1, 1, 1, 1, 1, 1, 1, 1]);\n",
    "active_8 = np.array([1, 1, 1, 1, 1, 1, 1, 1]);\n",
    "\n",
    "\n",
    "# active_1 = np.array([1, 0, 0, 0, 0, 0, 0, 0]);\n",
    "# active_2 = np.array([0, 1, 0, 0, 0, 0, 0, 0]);\n",
    "# active_3 = np.array([0, 0, 1, 0, 0, 0, 0, 0]);\n",
    "# active_4 = np.array([0, 0, 0, 1, 0, 0, 0, 0]);\n",
    "# active_5 = np.array([0, 0, 0, 0, 1, 0, 0, 0]);\n",
    "# active_6 = np.array([0, 0, 0, 0, 0, 1, 0, 0]);\n",
    "# active_7 = np.array([0, 0, 0, 0, 0, 0, 1, 0]);\n",
    "# active_8 = np.array([0, 0, 0, 0, 0, 0, 0, 1]);\n",
    "\n",
    "active_detectors = [active_1, active_2, active_3, active_4, active_5, active_6, active_7, active_8];\n",
    "N_bursts = len(active_detectors);\n",
    "\n",
    "#active_detectors = np.array([1, 1, 1, 1, 1, 1, 1, 1]); # if 1 detector is active 0 if not. From lect to right: AH, AV, AD, AA, BH, BV, BD, BA.\n",
    "\n",
    "for i in range(N_bursts):\n",
    "    active_indices = np.arange(int(i*N/2), int(i*N/2 + N/2), period);\n",
    "    \n",
    "    # Vectorized assignments based on active detectors\n",
    "    if active_detectors[i][0]: AH[active_indices] = 1\n",
    "    if active_detectors[i][1]: AV[active_indices] = 1\n",
    "    if active_detectors[i][2]: AD[active_indices] = 1\n",
    "    if active_detectors[i][3]: AA[active_indices] = 1\n",
    "    if active_detectors[i][4]: BH[active_indices] = 1\n",
    "    if active_detectors[i][5]: BV[active_indices] = 1\n",
    "    if active_detectors[i][6]: BD[active_indices] = 1\n",
    "    if active_detectors[i][7]: BA[active_indices] = 1\n",
    "\n",
    "\n",
    "pulse_select, Time_Offset = transform_data(AH, AV, AD, AA, BH, BV, BD, BA)\n",
    "filename = 'Test_all_active_2.txt';\n",
    "write_pulse_time_to_file(filename, pulse_select, Time_Offset, columns_per_line=4)\n",
    "    "
   ]
  },
  {
   "cell_type": "markdown",
   "id": "f8302af5-e1b7-4e81-9c3f-4ef8210c8416",
   "metadata": {},
   "source": [
    "## Detection Function with Jitter"
   ]
  },
  {
   "cell_type": "code",
   "execution_count": 183,
   "id": "b88fab52-7660-4336-9a2c-7985a0bda3df",
   "metadata": {},
   "outputs": [],
   "source": [
    "def detect(timetag, n, mu=0, sigma=0.5):\n",
    "    normal = np.random.normal(mu, sigma, n)\n",
    "    return np.floor(timetag / 10 + normal).astype(np.int32)"
   ]
  },
  {
   "cell_type": "markdown",
   "id": "417ea27a-8a7f-4d56-b9be-bdc9e9e56602",
   "metadata": {},
   "source": [
    "# Random Generation"
   ]
  },
  {
   "cell_type": "code",
   "execution_count": 246,
   "id": "713ec2f0-21b2-4156-9e5d-7bc33cdea29a",
   "metadata": {},
   "outputs": [
    {
     "name": "stdout",
     "output_type": "stream",
     "text": [
      "File 'Test_random_active.txt' written successfully.\n"
     ]
    }
   ],
   "source": [
    "run_time = 0.1; #seconds\n",
    "delay = 35; #artificial delay in ns\n",
    "mu = 0; #mean of normal distribution for accounting for detector jitter which is 1 ns\n",
    "sigma = 0.5 #1 ns jitter for our detectors\n",
    "\n",
    "# Generate random data\n",
    "Coin = np.random.poisson(B * run_time, 1)[0]  # Number of expected coincidences\n",
    "N = int(run_time * 1e10)  # Number of bins\n",
    "P_coin = Coin / N  # Probability of getting a coincidence pair\n",
    "P = np.random.uniform(0, 1, N)\n",
    "Coin_loc = np.where(P <= P_coin)[0]\n",
    "n_Coin = len(Coin_loc)\n",
    "\n",
    "# Jitter detection times\n",
    "Coin_Detection_Times_A = detect(Coin_loc,n_Coin); #This is the actual time the detections arrive for Alice including detector jitter. \n",
    "Coin_Detection_Times_B = detect(Coin_loc,n_Coin); #This is the actual time the detections arrive for Bob including detector jitter. \n",
    "# Coin_Detection_Times_A = np.floor(Coin_loc / 10 + np.random.normal(mu, sigma, n_Coin)).astype(np.int32)\n",
    "# Coin_Detection_Times_B = np.floor(Coin_loc / 10 + np.random.normal(mu, sigma, n_Coin)).astype(np.int32) + delay\n",
    "\n",
    "# Probabilities\n",
    "P_A = np.random.uniform(0,1,n_Coin); #P that a photon made it to Alice's detection setup given eta\n",
    "P_B = np.random.uniform(0,1,n_Coin); #P that a photon made it to Bob's detection setup given eta\n",
    "P_A_Basis = np.random.uniform(0,1,n_Coin);#P of choosing the HV basis ( P<=0.5) or DA basis (P > 0.5) for Alice\n",
    "P_B_Basis = np.random.uniform(0,1,n_Coin);#P of choosing the HV basis ( P<=0.5) or DA basis (P > 0.5) for Bob\n",
    "P_State = np.random.uniform(0,1,n_Coin);#P of getting the state HV (P<= 0.5) of the state VH (P > 0.5)\n",
    "P_Error_A = np.random.uniform(0,1,n_Coin);#P of getting a polarization error in Alice's setup\n",
    "P_Error_B = np.random.uniform(0,1,n_Coin);#P of getting a polarization error in Bob's setup\n",
    "\n",
    "# Pre-allocate arrays\n",
    "AH = np.zeros(int(run_time * 1e9), dtype=np.uint8)\n",
    "AV = np.zeros(int(run_time * 1e9), dtype=np.uint8)\n",
    "AD = np.zeros(int(run_time * 1e9), dtype=np.uint8)\n",
    "AA = np.zeros(int(run_time * 1e9), dtype=np.uint8)\n",
    "BH = np.zeros(int(run_time * 1e9), dtype=np.uint8)\n",
    "BV = np.zeros(int(run_time * 1e9), dtype=np.uint8)\n",
    "BD = np.zeros(int(run_time * 1e9), dtype=np.uint8)\n",
    "BA = np.zeros(int(run_time * 1e9), dtype=np.uint8)\n",
    "\n",
    "# Vectorized processing for Alice\n",
    "alice_indices = np.where(P_A <= eta)[0]\n",
    "detection_times_a = Coin_Detection_Times_A[alice_indices]\n",
    "\n",
    "HV_mask = P_A_Basis[alice_indices] <= 0.5\n",
    "DA_mask = ~HV_mask\n",
    "HV_state = P_State[alice_indices] <= 0.5\n",
    "VH_state = ~HV_state\n",
    "no_error_a = P_Error_A[alice_indices] > epol\n",
    "error_a = ~no_error_a\n",
    "\n",
    "# Process HV Basis\n",
    "AH[detection_times_a[HV_mask & HV_state & no_error_a]] = 1\n",
    "AV[detection_times_a[HV_mask & VH_state & no_error_a]] = 1\n",
    "AH[detection_times_a[HV_mask & VH_state & error_a]] = 1\n",
    "AV[detection_times_a[HV_mask & HV_state & error_a]] = 1\n",
    "\n",
    "AHT = np.sort(np.append(detection_times_a[HV_mask & HV_state & no_error_a], detection_times_a[HV_mask & VH_state & error_a]), axis = None)\n",
    "AVT = np.sort(np.append(detection_times_a[HV_mask & VH_state & no_error_a], detection_times_a[HV_mask & HV_state & error_a]), axis = None)\n",
    "\n",
    "\n",
    "# Process DA Basis\n",
    "AD[detection_times_a[DA_mask & HV_state & no_error_a]] = 1\n",
    "AA[detection_times_a[DA_mask & VH_state & no_error_a]] = 1\n",
    "AD[detection_times_a[DA_mask & VH_state & error_a]] = 1\n",
    "AA[detection_times_a[DA_mask & HV_state & error_a]] = 1\n",
    "\n",
    "ADT = np.sort(np.append(detection_times_a[DA_mask & HV_state & no_error_a], detection_times_a[DA_mask & VH_state & error_a]), axis = None)\n",
    "AAT = np.sort(np.append(detection_times_a[DA_mask & VH_state & no_error_a], detection_times_a[DA_mask & HV_state & error_a]), axis = None)\n",
    "\n",
    "# Vectorized processing for Bob\n",
    "bob_indices = np.where(P_B <= eta)[0]\n",
    "detection_times_b = Coin_Detection_Times_B[bob_indices] + delay\n",
    "\n",
    "HV_mask_b = P_B_Basis[bob_indices] <= 0.5\n",
    "DA_mask_b = ~HV_mask_b\n",
    "HV_state_b = P_State[bob_indices] <= 0.5\n",
    "VH_state_b = ~HV_state_b\n",
    "no_error_b = P_Error_B[bob_indices] > epol\n",
    "error_b = ~no_error_b\n",
    "\n",
    "# Process HV Basis\n",
    "BV[detection_times_b[HV_mask_b & HV_state_b & no_error_b]] = 1\n",
    "BH[detection_times_b[HV_mask_b & VH_state_b & no_error_b]] = 1\n",
    "BV[detection_times_b[HV_mask_b & VH_state_b & error_b]] = 1\n",
    "BH[detection_times_b[HV_mask_b & HV_state_b & error_b]] = 1\n",
    "BVT = np.sort(np.append(detection_times_b[HV_mask_b & HV_state_b & no_error_b], detection_times_b[HV_mask_b & VH_state_b & error_b]), axis = None)\n",
    "BHT = np.sort(np.append(detection_times_b[HV_mask_b & VH_state_b & no_error_b], detection_times_b[HV_mask_b & HV_state_b & error_b]), axis = None)\n",
    "\n",
    "\n",
    "\n",
    "# Process DA Basis\n",
    "BA[detection_times_b[DA_mask_b & HV_state_b & no_error_b]] = 1\n",
    "BD[detection_times_b[DA_mask_b & VH_state_b & no_error_b]] = 1\n",
    "BA[detection_times_b[DA_mask_b & VH_state_b & error_b]] = 1\n",
    "BD[detection_times_b[DA_mask_b & HV_state_b & error_b]] = 1\n",
    "\n",
    "BAT = np.sort(np.append(detection_times_b[DA_mask_b & HV_state_b & no_error_b], detection_times_b[DA_mask_b & VH_state_b & error_b]), axis = None)\n",
    "BDT = np.sort(np.append(detection_times_b[DA_mask_b & VH_state_b & no_error_b], detection_times_b[DA_mask_b & HV_state_b & error_b]), axis = None)\n",
    "\n",
    "\n",
    "\n",
    "pulse_select, Time_Offset = transform_data(AH, AV, AD, AA, BH, BV, BD, BA)\n",
    "# Normalize Time_Offset to the range 1-256\n",
    "Time_Offset = np.min((Time_Offset % 256),1)  # Modulo 256 and shift to range 1-256\n",
    "filename = 'Test_random_active.txt';\n",
    "write_pulse_time_to_file(filename, pulse_select, Time_Offset, columns_per_line=4)\n"
   ]
  },
  {
   "cell_type": "markdown",
   "id": "7b41a681-15f5-4c76-b36f-93925605941f",
   "metadata": {
    "jp-MarkdownHeadingCollapsed": true
   },
   "source": [
    "## Test area for random generation"
   ]
  },
  {
   "cell_type": "markdown",
   "id": "ec8f7830-c631-4b66-a695-82807cba293a",
   "metadata": {
    "jp-MarkdownHeadingCollapsed": true
   },
   "source": [
    "## Test Peak Finder"
   ]
  },
  {
   "cell_type": "code",
   "execution_count": 185,
   "id": "9d34fd2d-cfeb-4c0b-82d6-08af1c16dc21",
   "metadata": {},
   "outputs": [
    {
     "name": "stdout",
     "output_type": "stream",
     "text": [
      "21\n"
     ]
    }
   ],
   "source": [
    "counter = 0;\n",
    "for i in range(n_Coin):\n",
    "    if P_A[i] < eta and P_B[i] < eta and P_A_Basis[i] > 0.5 and P_B_Basis[i] > 0.5 and P_Error_B[i] > epol and P_Error_A[i] > epol and P_State[i] > 0.5:\n",
    "        # print(Coin_Detection_Times_A[i])\n",
    "        # print(Coin_Detection_Times_B[i])\n",
    "        counter += 1;\n",
    "print(counter);"
   ]
  },
  {
   "cell_type": "code",
   "execution_count": 186,
   "id": "d943a50f-1c6b-42f7-b879-b560f11b68ce",
   "metadata": {},
   "outputs": [],
   "source": [
    "# Pre-allocate arrays\n",
    "AH_1 = AH\n",
    "AV_1 = AV\n",
    "AD_1 = AD\n",
    "AA_1 = AA\n",
    "BH_1 = BH\n",
    "BV_1 = BV\n",
    "BD_1 = BD\n",
    "BA_1 = BA"
   ]
  },
  {
   "cell_type": "code",
   "execution_count": 191,
   "id": "d32040a3-c132-40fb-b781-013138d47cc8",
   "metadata": {},
   "outputs": [
    {
     "data": {
      "text/plain": [
       "[]"
      ]
     },
     "execution_count": 191,
     "metadata": {},
     "output_type": "execute_result"
    }
   ],
   "source": [
    "AHT"
   ]
  },
  {
   "cell_type": "code",
   "execution_count": 247,
   "id": "387d61ee-fa69-4123-82e6-53d448b8ffe3",
   "metadata": {},
   "outputs": [],
   "source": [
    "Alice = AHT;\n",
    "Bob = BVT;\n",
    "\n",
    "diffs = np.zeros(len(Alice)*len(Bob));\n",
    "\n",
    "for i in range(len(Alice)):\n",
    "    for j in range(len(Bob)):\n",
    "        diff = Alice[i] - Bob[j];\n",
    "        diffs[i*len(Bob) + j] = diff;"
   ]
  },
  {
   "cell_type": "code",
   "execution_count": 248,
   "id": "36ff69c7-a822-4853-9ae1-d0ff7864a90b",
   "metadata": {},
   "outputs": [
    {
     "name": "stdout",
     "output_type": "stream",
     "text": [
      "19.0\n",
      "-35.0\n"
     ]
    }
   ],
   "source": [
    "bin_size = 1; #bin size in ns\n",
    "range_max = 1e6; #maximum delay to look for in ns (ex. 1e6 = 1 ms)\n",
    "hist = np.zeros(2*int(range_max/bin_size)); #number of bins\n",
    "\n",
    "hist_max = 0;\n",
    "hist_max_idx = 0;\n",
    "\n",
    "for k in range(len(diffs)):\n",
    "    if np.abs(diffs[k]) < range_max:\n",
    "        hist_idx = int(np.floor(diffs[k]/bin_size + range_max/bin_size));\n",
    "        hist[hist_idx] += 1;\n",
    "        \n",
    "        if hist[hist_idx] > hist_max:\n",
    "            hist_max = hist[hist_idx];\n",
    "            hist_max_idx = hist_idx;\n",
    "\n",
    "print(hist_max);\n",
    "print(hist_max_idx-range_max/bin_size);"
   ]
  },
  {
   "cell_type": "code",
   "execution_count": 249,
   "id": "5a987d4b-95bb-4aa2-98b0-1bb2087b0618",
   "metadata": {},
   "outputs": [
    {
     "data": {
      "image/png": "[encoded data removed]",
      "text/plain": [
       "<Figure size 640x480 with 1 Axes>"
      ]
     },
     "metadata": {},
     "output_type": "display_data"
    }
   ],
   "source": [
    "plt.plot(hist)\n",
    "# plt.plot(hist,'.')\n",
    "plt.xlabel('Time Difference (ns)');\n",
    "plt.ylabel('Number if Instances');"
   ]
  },
  {
   "cell_type": "code",
   "execution_count": 62,
   "id": "55e00b11-c925-4b94-99a4-78699877994c",
   "metadata": {},
   "outputs": [],
   "source": []
  },
  {
   "cell_type": "code",
   "execution_count": 112,
   "id": "427d5db5-1a6c-49ea-bb7a-77d86b4a0da5",
   "metadata": {},
   "outputs": [
    {
     "name": "stdout",
     "output_type": "stream",
     "text": [
      "[0 0 0 0 0 0 0 0 0 0]\n",
      "[0 0 0 0 0 0 0 0 0 0]\n",
      "[0 0 0 0 0 0 0 0 0 0]\n",
      "[0 0 0 0 0 1 0 0 0 0]\n",
      "[0 0 0 0 0 0 0 0 0 0]\n",
      "[0 0 0 0 0 0 0 0 0 0]\n",
      "[0 0 0 0 0 1 0 0 0 0]\n",
      "[0 0 0 0 0 0 0 0 0 0]\n"
     ]
    }
   ],
   "source": [
    ".30check = 492041\n",
    "start = check - 5\n",
    "end = check + 5\n",
    "\n",
    "print(AH[start:end])\n",
    "print(AV[start:end])\n",
    "print(AD[start:end])\n",
    "print(AA[start:end])\n",
    "\n",
    "print(BH[start + delay:end + delay])\n",
    "print(BV[start + delay:end + delay])\n",
    "print(BD[start + delay:end + delay])\n",
    "print(BA[start + delay:end + delay])"
   ]
  },
  {
   "cell_type": "code",
   "execution_count": 18,
   "id": "40303f57-0253-4f8f-8c99-893dd90f624c",
   "metadata": {},
   "outputs": [
    {
     "name": "stdout",
     "output_type": "stream",
     "text": [
      "00000111\n"
     ]
    }
   ],
   "source": [
    "my_str = ''\n",
    "test =np.array([0,0,0,0,0,1,1,1])\n",
    "\n",
    "for k in range(len(test)):\n",
    "    my_str += str(test[k])\n",
    "\n",
    "print(my_str)"
   ]
  },
  {
   "cell_type": "code",
   "execution_count": 20,
   "id": "972da108-4231-413a-9d4f-6c8da3e48109",
   "metadata": {},
   "outputs": [
    {
     "data": {
      "text/plain": [
       "7"
      ]
     },
     "execution_count": 20,
     "metadata": {},
     "output_type": "execute_result"
    }
   ],
   "source": [
    "int(my_str,2)"
   ]
  },
  {
   "cell_type": "code",
   "execution_count": 98,
   "id": "a6627710-d8a5-4fc0-864b-bca33f93c517",
   "metadata": {},
   "outputs": [],
   "source": [
    "pulse_select, Time_Offset = transform_data(AH, AV, AD, AA, BH, BV, BD, BA)"
   ]
  },
  {
   "cell_type": "markdown",
   "id": "5d36f210-8a82-4a32-a722-17661ca36336",
   "metadata": {},
   "source": [
    "### Normalize Time Offset to be between 1-256"
   ]
  },
  {
   "cell_type": "markdown",
   "id": "a195739a-5ca3-43d9-92e6-7f37bd7a3ce9",
   "metadata": {},
   "source": []
  },
  {
   "cell_type": "code",
   "execution_count": null,
   "id": "4512c4c0-4df3-44cf-9870-d688ed46340a",
   "metadata": {},
   "outputs": [],
   "source": [
    "# Normalize Time_Offset to the range 1-256\n",
    "#Time_Offset = (Time_Offset % 256) + 1  # Modulo 256 and shift to range 1-256"
   ]
  },
  {
   "cell_type": "code",
   "execution_count": 103,
   "id": "40fcd571-5484-4c5c-89b0-318e96bb17d5",
   "metadata": {},
   "outputs": [],
   "source": [
    "\n"
   ]
  },
  {
   "cell_type": "markdown",
   "id": "4de34cb4-f8a5-4439-a2c7-853b81b98d68",
   "metadata": {
    "jp-MarkdownHeadingCollapsed": true
   },
   "source": [
    "## Test Area"
   ]
  },
  {
   "cell_type": "code",
   "execution_count": 104,
   "id": "43185de1-90de-4f96-8c11-4508972f5750",
   "metadata": {},
   "outputs": [
    {
     "name": "stdout",
     "output_type": "stream",
     "text": [
      "File 'test.txt' written successfully.\n"
     ]
    }
   ],
   "source": [
    "filename = 'test.txt'\n",
    "\n",
    "write_pulse_time_to_file(filename, pulse_select, Time_Offset, columns_per_line=4)"
   ]
  },
  {
   "cell_type": "code",
   "execution_count": 155,
   "id": "d87169e8-d3f0-4324-92f1-cd481cfdc6bd",
   "metadata": {},
   "outputs": [
    {
     "data": {
      "text/plain": [
       "20372"
      ]
     },
     "execution_count": 155,
     "metadata": {},
     "output_type": "execute_result"
    }
   ],
   "source": [
    "len(pulse_select)"
   ]
  },
  {
   "cell_type": "markdown",
   "id": "9ae60d6a-683c-468f-81c9-31811f0ab40c",
   "metadata": {},
   "source": []
  },
  {
   "cell_type": "code",
   "execution_count": 174,
   "id": "733b31fe-3994-44c1-b35f-e522d5138132",
   "metadata": {},
   "outputs": [
    {
     "name": "stdout",
     "output_type": "stream",
     "text": [
      "File 'Test_all_active_2.txt' written successfully.\n"
     ]
    }
   ],
   "source": []
  },
  {
   "cell_type": "markdown",
   "id": "101d33e6-9f47-4bce-a398-77bea90f867f",
   "metadata": {
    "jp-MarkdownHeadingCollapsed": true
   },
   "source": [
    "## Test Area"
   ]
  },
  {
   "cell_type": "code",
   "execution_count": 158,
   "id": "7baa6f72-92af-45e5-a155-01bbff2ac2da",
   "metadata": {},
   "outputs": [],
   "source": [
    "x = np.array([[1,2],[3,4]])"
   ]
  },
  {
   "cell_type": "code",
   "execution_count": 160,
   "id": "2658ee60-0f6b-48d8-b8b5-4cc9afe889c3",
   "metadata": {},
   "outputs": [
    {
     "data": {
      "text/plain": [
       "1"
      ]
     },
     "execution_count": 160,
     "metadata": {},
     "output_type": "execute_result"
    }
   ],
   "source": [
    "x[0]"
   ]
  },
  {
   "cell_type": "code",
   "execution_count": 175,
   "id": "fbabe8e5-64f0-4356-b73b-501412810ce1",
   "metadata": {},
   "outputs": [
    {
     "data": {
      "text/plain": [
       "500000"
      ]
     },
     "execution_count": 175,
     "metadata": {},
     "output_type": "execute_result"
    }
   ],
   "source": [
    "len(Time_Offset)"
   ]
  },
  {
   "cell_type": "code",
   "execution_count": 176,
   "id": "a0bc850c-08ba-4bd6-9ec1-356b3e2aff44",
   "metadata": {},
   "outputs": [
    {
     "data": {
      "text/plain": [
       "500000"
      ]
     },
     "execution_count": 176,
     "metadata": {},
     "output_type": "execute_result"
    }
   ],
   "source": [
    "len(pulse_select)"
   ]
  },
  {
   "cell_type": "code",
   "execution_count": 164,
   "id": "8873470c-ad68-44a0-88af-d71680f50217",
   "metadata": {},
   "outputs": [
    {
     "data": {
      "text/plain": [
       "array([255, 255, 255, ..., 255, 255, 255], dtype=uint8)"
      ]
     },
     "execution_count": 164,
     "metadata": {},
     "output_type": "execute_result"
    }
   ],
   "source": [
    "pulse_select"
   ]
  },
  {
   "cell_type": "code",
   "execution_count": 147,
   "id": "1d812160-8363-4c8d-8c11-fdc4026c6574",
   "metadata": {},
   "outputs": [
    {
     "data": {
      "text/plain": [
       "array([     0,      1,      2, ..., 499997, 499998, 499999])"
      ]
     },
     "execution_count": 147,
     "metadata": {},
     "output_type": "execute_result"
    }
   ],
   "source": [
    "np.arange(0, N*4, period)"
   ]
  },
  {
   "cell_type": "markdown",
   "id": "88f813cd-ea8c-48c8-bcd2-b611f31c46ca",
   "metadata": {
    "jp-MarkdownHeadingCollapsed": true
   },
   "source": [
    "## Test File Saving"
   ]
  },
  {
   "cell_type": "code",
   "execution_count": 52,
   "id": "2b30c443-61f8-40af-9fc9-5cdf460ea1aa",
   "metadata": {},
   "outputs": [
    {
     "name": "stdout",
     "output_type": "stream",
     "text": [
      "[0 0 0 0 0 0 0 0 0 0]\n",
      "[0 0 0 0 0 0 0 0 0 0]\n",
      "[0 0 0 0 0 0 0 0 0 0]\n",
      "[0 0 0 0 0 0 0 0 0 0]\n",
      "[0 0 0 0 0 0 0 0 0 0]\n",
      "[0 0 0 0 1 0 0 0 0 0]\n",
      "[0 0 0 0 0 0 0 0 0 0]\n",
      "[0 0 0 0 0 0 0 0 0 0]\n"
     ]
    }
   ],
   "source": [
    "check = 15589 + 14756 + 17772 + 5341\n",
    "start = check - 5\n",
    "end = check + 5\n",
    "\n",
    "print(AH[start:end])\n",
    "print(AV[start:end])\n",
    "print(AD[start:end])\n",
    "print(AA[start:end])\n",
    "\n",
    "print(BH[start + delay:end + delay])\n",
    "print(BV[start + delay:end + delay])\n",
    "print(BD[start + delay:end + delay])\n",
    "print(BA[start + delay:end + delay])"
   ]
  },
  {
   "cell_type": "markdown",
   "id": "64da11c3-a1bc-4e46-ab9b-0c84dadf229a",
   "metadata": {
    "jp-MarkdownHeadingCollapsed": true
   },
   "source": [
    "## Optimize Random Generation"
   ]
  },
  {
   "cell_type": "code",
   "execution_count": 99,
   "id": "ae4aad6e-f51b-4370-a043-e77ad8cf0a52",
   "metadata": {},
   "outputs": [],
   "source": []
  },
  {
   "cell_type": "code",
   "execution_count": 75,
   "id": "0d6da00c-f9a8-49f6-b98a-2b4378608708",
   "metadata": {},
   "outputs": [
    {
     "name": "stdout",
     "output_type": "stream",
     "text": [
      "[0 0 0 0 0 0 0 0 0 0]\n",
      "[0 0 0 0 0 0 0 0 0 0]\n",
      "[0 0 0 0 0 0 0 0 0 0]\n",
      "[0 0 0 0 0 0 0 0 0 0]\n",
      "[0 0 0 0 0 0 0 0 0 0]\n",
      "[0 0 0 0 0 0 0 0 0 0]\n",
      "[0 0 0 0 0 0 0 0 0 0]\n",
      "[0 0 0 0 0 0 0 0 0 0]\n"
     ]
    }
   ],
   "source": [
    "check = 276\n",
    "start = check - 5\n",
    "end = check + 5\n",
    "\n",
    "print(AH[start:end])\n",
    "print(AV[start:end])\n",
    "print(AD[start:end])\n",
    "print(AA[start:end])\n",
    "\n",
    "print(BH[start + delay:end + delay])\n",
    "print(BV[start + delay:end + delay])\n",
    "print(BD[start + delay:end + delay])\n",
    "print(BA[start + delay:end + delay])"
   ]
  },
  {
   "cell_type": "markdown",
   "id": "2c15b409-1068-45ac-a7dc-b9d7414866f8",
   "metadata": {},
   "source": [
    "# EXTRA"
   ]
  },
  {
   "cell_type": "markdown",
   "id": "2c936e47-7f2b-46f4-8f27-86945db10a4b",
   "metadata": {
    "jp-MarkdownHeadingCollapsed": true
   },
   "source": [
    "## Random Generation"
   ]
  },
  {
   "cell_type": "code",
   "execution_count": 244,
   "id": "c5c79109-b2b1-4057-b22a-50b06b3792ab",
   "metadata": {},
   "outputs": [],
   "source": [
    "# run_time = 0.1; #seconds\n",
    "# delay = 35; #artificial delay in ns\n",
    "# mu = 0; #mean of normal distribution for accounting for detector jitter which is 1 ns\n",
    "# sigma = 0.5 #1 ns jitter for our detectors\n",
    "\n",
    "# Coin = np.random.poisson(B*run_time, 1)[0] #Number of expected coincidences during run_time seconds\n",
    "# DC = np.random.poisson(250*run_time, 1)[0]; #Expected number of DC\n",
    "\n",
    "# N = int(run_time*1e10); #100 picoseconds per bin/ number of bins\n",
    "# P_coin = Coin/N; #Probability of getting a coincidence pair in a bin\n",
    "\n",
    "# P = np.random.uniform(0,1,N); #P of detecting a pair in a bin\n",
    "\n",
    "# Coin_loc = np.where(P <= P_coin)[0]; #location of each coincidence attempt/ This is also the time \n",
    "# n_Coin = len(Coin_loc); #actual number of coincidence attempts\n",
    "# Coin_Detection_Times_A = detect(Coin_loc,n_Coin); #This is the actual time the detections arrive for Alice including detector jitter. \n",
    "# Coin_Detection_Times_B = detect(Coin_loc,n_Coin); #This is the actual time the detections arrive for Bob including detector jitter. \n",
    "\n",
    "#P_DC = DC/N; #probability of getting a dark count in each bin\n",
    "# DC_loc = np.where(P > 1-2*P_DC)[0]; #location of dark counts\n",
    "# n_DC = len(DC_loc); #actual number of coincidence attempts\n",
    "\n",
    "\n",
    "# P_A = np.random.uniform(0,1,n_Coin); #P that a photon made it to Alice's detection setup given eta\n",
    "# P_B = np.random.uniform(0,1,n_Coin); #P that a photon made it to Bob's detection setup given eta\n",
    "# P_A_Basis = np.random.uniform(0,1,n_Coin);#P of choosing the HV basis ( P<=0.5) or DA basis (P > 0.5) for Alice\n",
    "# P_B_Basis = np.random.uniform(0,1,n_Coin);#P of choosing the HV basis ( P<=0.5) or DA basis (P > 0.5) for Bob\n",
    "# P_State = np.random.uniform(0,1,n_Coin);#P of getting the state HV (P<= 0.5) of the state VH (P > 0.5)\n",
    "# P_Error_A = np.random.uniform(0,1,n_Coin);#P of getting a polarization error in Alice's setup\n",
    "# P_Error_B = np.random.uniform(0,1,n_Coin);#P of getting a polarization error in Bob's setup\n",
    "\n",
    "#Alice's data arrays for 1's and 0's\n",
    "AH = np.zeros(int(run_time*1e9), dtype=np.uint8);\n",
    "AV = np.zeros(int(run_time*1e9), dtype=np.uint8);\n",
    "AD = np.zeros(int(run_time*1e9), dtype=np.uint8);\n",
    "AA = np.zeros(int(run_time*1e9), dtype=np.uint8);\n",
    "#Alice's data arrays for timetags\n",
    "AHT = [];\n",
    "AVT = [];\n",
    "ADT = [];\n",
    "AAT = [];\n",
    "#Bob's data arrays for 1's and 0's\n",
    "BH = np.zeros(int(run_time*1e9), dtype=np.uint8);\n",
    "BV = np.zeros(int(run_time*1e9), dtype=np.uint8);\n",
    "BD = np.zeros(int(run_time*1e9), dtype=np.uint8);\n",
    "BA = np.zeros(int(run_time*1e9), dtype=np.uint8);\n",
    "#Bob's data arrays for timetags\n",
    "BHT = [];\n",
    "BVT = [];\n",
    "BDT = [];\n",
    "BAT = [];\n",
    "\n",
    "# TimeOffsets = [];\n",
    "\n",
    "# offset = 0\n",
    "for i in range(n_Coin):\n",
    "    detection_time = int(Coin_Detection_Times_A[i]);\n",
    "    if P_A[i] <= eta: #Photon Arrives at Alice\n",
    "        if P_A_Basis[i] <= 0.5: #The BASIS choice is HV\n",
    "            if P_State[i] <= 0.5: #The pair STATE is HV\n",
    "                if P_Error_A[i] > epol: #NO polarization Error\n",
    "                    AH[detection_time] = 1;\n",
    "                    AHT.append(detection_time);\n",
    "                    # TimeOffsets.append(Coin_Detection_Times_A[i] - offset);#get the offset for the event\n",
    "                    # offset = Coin_Detection_Times_A[i]; \n",
    "                else: #Polarization Error\n",
    "                    AV[detection_time ] = 1;\n",
    "                    AVT.append(detection_time);\n",
    "            else: #The pair STATE is VH\n",
    "                 if P_Error_A[i] > epol: #NO polarization Error\n",
    "                    AV[detection_time] = 1;\n",
    "                    AVT.append(detection_time);\n",
    "                 else: #Polarization Error\n",
    "                    AH[detection_time] = 1;\n",
    "                    AHT.append(detection_time);\n",
    "        else: #The BASIS choice is DA\n",
    "            if P_State[i] <= 0.5: #The pair STATE is HV\n",
    "                if P_Error_A[i] > epol: #NO polarization Error\n",
    "                    AD[detection_time] = 1;\n",
    "                    ADT.append(detection_time);\n",
    "                else: #Polarization Error\n",
    "                    AA[detection_time] = 1;\n",
    "                    AAT.append(detection_time);\n",
    "            else: #The pair STATE is VH\n",
    "                if P_Error_A[i] > epol: #NO polarization Error\n",
    "                    AA[detection_time] = 1;\n",
    "                    AAT.append(detection_time);\n",
    "                else: #Polarization Error\n",
    "                    AD[detection_time] = 1;\n",
    "                    ADT.append(detection_time);\n",
    "            \n",
    "    if P_B[i] <= eta: #Photon Arrives at Alice\n",
    "        detection_time = int(Coin_Detection_Times_B[i] + delay);\n",
    "        if P_B_Basis[i] <= 0.5: #The BASIS choice is HV\n",
    "            if P_State[i] <= 0.5: #The pair STATE is HV\n",
    "                if P_Error_B[i] > epol: #NO polarization Error\n",
    "                    BV[detection_time] = 1;\n",
    "                    BVT.append(detection_time);\n",
    "                else: #Polarization Error\n",
    "                    BH[detection_time] = 1;\n",
    "                    BHT.append(detection_time);\n",
    "            else: #The pair STATE is VH\n",
    "                if P_Error_B[i] > epol: #NO polarization Error\n",
    "                    BH[detection_time] = 1;\n",
    "                    BHT.append(detection_time);\n",
    "                else: #Polarization Error\n",
    "                    BV[detection_time] = 1;\n",
    "                    BVT.append(detection_time);\n",
    "        else: #The BASIS choice is DA\n",
    "            if P_State[i] <= 0.5: #The pair STATE is HV\n",
    "                if P_Error_B[i] > epol: #NO polarization Error\n",
    "                    BA[detection_time] = 1;\n",
    "                    BAT.append(detection_time);\n",
    "                else: #Polarization Error\n",
    "                    BD[detection_time] = 1;\n",
    "                    BDT.append(detection_time);\n",
    "            else: #The pair STATE is VH\n",
    "                if P_Error_B[i] > epol: #NO polarization Error\n",
    "                    BD[detection_time] = 1;\n",
    "                    BDT.append(detection_time);\n",
    "                else: #Polarization Error\n",
    "                    BA[detection_time] = 1;\n",
    "                    BAT.append(detection_time);\n",
    "# counter = 0;\n",
    "# for i in range(n_Coin):\n",
    "#     if P_arrival_A[i] < eta and P_arrival_B[i] < eta:\n",
    "#         # print(i)\n",
    "#         counter += 1;\n",
    "# print(counter);\n",
    "\n",
    "# arrival_A = np.where(P_arrival_A < eta)[0];\n",
    "# arrival_B = np.where(P_arrival_B < eta)[0];\n",
    "# arrival_Coin = np.where(arrival_A[:6000] == arrival_B[:6000], arrival_A[:6000], arrival_B[:6000]);\n",
    "# n_arrival_Coin = len(arrival_Coin);\n",
    "\n",
    "# print(n_arrival_Coin)"
   ]
  },
  {
   "cell_type": "code",
   "execution_count": 243,
   "id": "aa358e42-da17-4ae3-9fd7-eda16edd3de4",
   "metadata": {},
   "outputs": [],
   "source": [
    "AHT_2 = AHT\n",
    "BVT_2 = BVT"
   ]
  },
  {
   "cell_type": "code",
   "execution_count": 245,
   "id": "1e91a315-933b-4ffe-bce2-a3a158ab4e52",
   "metadata": {},
   "outputs": [
    {
     "data": {
      "text/plain": [
       "True"
      ]
     },
     "execution_count": 245,
     "metadata": {},
     "output_type": "execute_result"
    }
   ],
   "source": [
    "np.array_equal(np.transpose(np.array(AHT)),np.array(AHT_2))"
   ]
  },
  {
   "cell_type": "code",
   "execution_count": 232,
   "id": "82c717ac-92e0-4011-a629-0149d1815079",
   "metadata": {},
   "outputs": [
    {
     "data": {
      "text/plain": [
       "1752"
      ]
     },
     "execution_count": 232,
     "metadata": {},
     "output_type": "execute_result"
    }
   ],
   "source": [
    "len(BVT)"
   ]
  },
  {
   "cell_type": "code",
   "execution_count": 225,
   "id": "371db1a9-488d-41bd-adab-2d3dc372ec18",
   "metadata": {},
   "outputs": [
    {
     "data": {
      "text/plain": [
       "array([   35047,    37027,    40734, ..., 99965687, 99974659, 99981364])"
      ]
     },
     "execution_count": 225,
     "metadata": {},
     "output_type": "execute_result"
    }
   ],
   "source": [
    "AHT_2"
   ]
  },
  {
   "cell_type": "markdown",
   "id": "15b5eee2-89c3-463e-b353-62378196f3fb",
   "metadata": {
    "jp-MarkdownHeadingCollapsed": true
   },
   "source": [
    "## SAVE DATA"
   ]
  },
  {
   "cell_type": "code",
   "execution_count": null,
   "id": "36188683-a540-4845-bc00-2d94aa4668c5",
   "metadata": {},
   "outputs": [],
   "source": []
  },
  {
   "cell_type": "code",
   "execution_count": null,
   "id": "b61d0ca7-4f8e-452d-a5cd-598a9792706a",
   "metadata": {},
   "outputs": [],
   "source": [
    "# Parameters for formatting\n",
    "columns_per_line = 4  # Number of pairs (pulse_select, Time_Offset) per line\n",
    "\n",
    "# Open the output file\n",
    "with open(\"output.txt\", \"w\") as f:\n",
    "    for i in range(0, len(pulse_select), columns_per_line):\n",
    "        # Slice the current line's data\n",
    "        pulse_slice = pulse_select[i:i + columns_per_line]\n",
    "        time_slice = Time_Offset[i:i + columns_per_line]\n",
    "\n",
    "        # Format each pair and join them with spaces\n",
    "        line = ' '.join(f\"{pulse:02X} {time}\" for pulse, time in zip(pulse_slice, time_slice))\n",
    "\n",
    "        # Write the line to the file\n",
    "        f.write(line + \"\\n\")\n",
    "\n",
    "print(\"File 'output.txt' written successfully.\")"
   ]
  }
 ],
 "metadata": {
  "kernelspec": {
   "display_name": "Python 3 (ipykernel)",
   "language": "python",
   "name": "python3"
  },
  "language_info": {
   "codemirror_mode": {
    "name": "ipython",
    "version": 3
   },
   "file_extension": ".py",
   "mimetype": "text/x-python",
   "name": "python",
   "nbconvert_exporter": "python",
   "pygments_lexer": "ipython3",
   "version": "3.12.4"
  }
 },
 "nbformat": 4,
 "nbformat_minor": 5
}
